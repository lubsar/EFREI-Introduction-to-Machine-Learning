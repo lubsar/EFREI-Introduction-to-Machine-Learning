{
 "cells": [
  {
   "cell_type": "markdown",
   "metadata": {
    "id": "EErgikq5jsjk",
    "jp-MarkdownHeadingCollapsed": true,
    "tags": []
   },
   "source": [
    "# Introduction to Machine Learning - Exercise 1\n",
    "The aim of the exercise is to get an overview of the basic capabilities of the Pandas, Matplotlib and Seaborn libraries and be able to setup a Python Virtual Enviroment (`venv`)\n",
    "\n",
    "**Jupyter lab**\n",
    "\n",
    "* Add code\n",
    "* Add text\n",
    "* Execute command\n",
    "* Shortcuts (a, b, dd, Ctrl+Enter, Shift+Enter, x, c, v)\n",
    "\n",
    "**Alternatives**\n",
    "\n",
    "* Google Colab ([Colaboratory](https://colab.research.google.com/))\n",
    "* Python scripts in VS Code\n",
    "  \n",
    "![meme01](https://github.com/lubsar/EFREI-Introduction-to-Machine-Learning/blob/main/images/fml_01_meme_01.png?raw=true)"
   ]
  },
  {
   "cell_type": "markdown",
   "metadata": {},
   "source": [
    "# Basics of Python programming\n",
    "* You should be already familiar with Python basics\n",
    "* Majority of the work is done using Numpy or Pandas libraries as it is nowadays industry standard\n",
    "  * Data manipulation tasks are repetitive - it makes no sense to code everything from scratch every single time"
   ]
  },
  {
   "cell_type": "markdown",
   "metadata": {},
   "source": [
    "## Variables and data types\n",
    "* Variables are used to store data values. A variable is created the moment you first assign a value to it.\n",
    "* Variables do not need to be declared with any particular type and can even change type after they have been set.\n",
    "* In Python, variables are created when you assign a value to it."
   ]
  },
  {
   "cell_type": "code",
   "execution_count": null,
   "metadata": {},
   "outputs": [],
   "source": [
    "val_x = 5\n",
    "val_str = 'Hello'\n",
    "val_null = None\n",
    "\n",
    "print(val_x, val_str, val_null)"
   ]
  },
  {
   "cell_type": "markdown",
   "metadata": {},
   "source": [
    "## Operators in Python\n",
    "* Arithmetic Operators\n",
    "* Comparison Operators\n",
    "* Logical Operators\n",
    "* Assignment Operators "
   ]
  },
  {
   "cell_type": "code",
   "execution_count": null,
   "metadata": {},
   "outputs": [],
   "source": [
    "## Arithmetic Operators\n",
    "val_x = 5\n",
    "val_y = 3\n",
    "\n",
    "print(val_x + val_y)\n",
    "print(val_x - val_y)\n",
    "print(val_x * val_y)\n",
    "print(val_x / val_y)\n",
    "print(val_x % val_y)\n",
    "print(val_x ** val_y)"
   ]
  },
  {
   "cell_type": "code",
   "execution_count": null,
   "metadata": {},
   "outputs": [],
   "source": [
    "## Comparison Operators\n",
    "val_x = 5\n",
    "val_y = 3\n",
    "\n",
    "print(val_x == val_y)\n",
    "print(val_x != val_y)\n",
    "print(val_x > val_y)\n",
    "print(val_x < val_y)\n",
    "print(val_x >= val_y)\n",
    "print(val_x <= val_y)"
   ]
  },
  {
   "cell_type": "code",
   "execution_count": null,
   "metadata": {},
   "outputs": [],
   "source": [
    "## Logical Operators\n",
    "val_x = 5\n",
    "val_y = 3\n",
    "\n",
    "print(val_x == 5 and val_y == 3)\n",
    "print(val_x == 5 or val_y == 2)\n",
    "print(not(val_x == 5 and val_y == 3))"
   ]
  },
  {
   "cell_type": "code",
   "execution_count": null,
   "metadata": {},
   "outputs": [],
   "source": [
    "## Assignment Operators\n",
    "val_x = 5\n",
    "val_y = 3\n",
    "\n",
    "val_x += 1\n",
    "print(val_x)\n",
    "\n",
    "val_x -= 1\n",
    "print(val_x)"
   ]
  },
  {
   "cell_type": "markdown",
   "metadata": {},
   "source": [
    "# Python data sctructures\n",
    "* list\n",
    "* tuple\n",
    "* dictionary"
   ]
  },
  {
   "cell_type": "code",
   "execution_count": null,
   "metadata": {},
   "outputs": [],
   "source": [
    "## List\n",
    "val_list = [1, 2, 3, 4, 5]\n",
    "\n",
    "print(val_list)\n",
    "print(val_list[0])\n",
    "print(val_list[1:3])\n",
    "print(val_list[:3])\n",
    "print(val_list[2:])\n",
    "\n",
    "val_list[0] = 10\n",
    "print(val_list)\n",
    "\n",
    "val_list.append(6)\n",
    "print(val_list)\n",
    "\n",
    "val_list.insert(1, 20)\n",
    "print(val_list)\n",
    "\n",
    "val_list.remove(20)\n",
    "print(val_list)\n"
   ]
  },
  {
   "cell_type": "code",
   "execution_count": null,
   "metadata": {},
   "outputs": [],
   "source": [
    "## Tuple\n",
    "val_tuple = (1, 2, 3, 4, 5)\n",
    "print(val_tuple)\n",
    "print(val_tuple[0])\n",
    "print(val_tuple[2:])"
   ]
  },
  {
   "cell_type": "code",
   "execution_count": null,
   "metadata": {},
   "outputs": [],
   "source": [
    "## Dictionary\n",
    "val_dict = {'name': 'John', 'age': 25, 'address': 'New York'}\n",
    "print(val_dict)\n",
    "print(val_dict['name'])\n",
    "print(val_dict['age'])\n",
    "print(val_dict['address'])\n",
    "\n",
    "val_dict['name'] = 'Jane'\n",
    "print(val_dict)\n",
    "\n",
    "if 'name' in val_dict:\n",
    "    print('Name is present in the dictionary')\n",
    "\n",
    "if 'Salary' not in val_dict:\n",
    "    print('Salary is not present in the dictionary')"
   ]
  },
  {
   "cell_type": "markdown",
   "metadata": {},
   "source": [
    "# Python `if` statement and `for` loop"
   ]
  },
  {
   "cell_type": "code",
   "execution_count": null,
   "metadata": {},
   "outputs": [],
   "source": [
    "val_x = 5\n",
    "if val_x > 3:\n",
    "    print('x is greater than 3')\n",
    "elif val_x < 3:\n",
    "    print('x is less than 3')\n",
    "else:\n",
    "    print('x is equal to 3')"
   ]
  },
  {
   "cell_type": "code",
   "execution_count": null,
   "metadata": {},
   "outputs": [],
   "source": [
    "val_list = [1, 2, 3, 4, 5]\n",
    "for val in val_list:\n",
    "    print(val)"
   ]
  },
  {
   "cell_type": "code",
   "execution_count": null,
   "metadata": {},
   "outputs": [],
   "source": [
    "for val in range(5):\n",
    "    print(val)"
   ]
  },
  {
   "cell_type": "code",
   "execution_count": null,
   "metadata": {},
   "outputs": [],
   "source": [
    "for val in range(1, 10, 2):\n",
    "    print(val)"
   ]
  },
  {
   "cell_type": "markdown",
   "metadata": {},
   "source": [
    "# Functions"
   ]
  },
  {
   "cell_type": "code",
   "execution_count": null,
   "metadata": {},
   "outputs": [],
   "source": [
    "def add(x, y):\n",
    "    return x + y\n",
    "\n",
    "print(add(5, 3))"
   ]
  },
  {
   "cell_type": "code",
   "execution_count": null,
   "metadata": {},
   "outputs": [],
   "source": [
    "def add(x, y=3):\n",
    "    return x + y\n",
    "\n",
    "print(add(5))\n",
    "print(add(5, 4))"
   ]
  },
  {
   "cell_type": "code",
   "execution_count": null,
   "metadata": {},
   "outputs": [],
   "source": [
    "def add_sub(x, y):\n",
    "    return x + y, x - y\n",
    "\n",
    "add, sub = add_sub(5, 3)\n",
    "print(add)\n",
    "print(sub)"
   ]
  },
  {
   "cell_type": "markdown",
   "metadata": {
    "id": "l9hHDMhFjshW",
    "tags": []
   },
   "source": [
    "# Data processing\n",
    "\n",
    "Data source: https://www.kaggle.com/c/house-prices-advanced-regression-techniques/data\n",
    "\n",
    "Important attributes description:\n",
    "* SalePrice: The property's sale price in dollars. This is the target variable that you're trying to predict.\n",
    "* MSSubClass: The building class\n",
    "* BldgType: Type of dwelling\n",
    "* HouseStyle: Style of dwelling\n",
    "* OverallQual: Overall material and finish quality\n",
    "* OverallCond: Overall condition rating\n",
    "* YearBuilt: Original construction date\n",
    "* Heating: Type of heating\n",
    "* CentralAir: Central air conditioning\n",
    "* GrLivArea: Above grade (ground) living area square feet\n",
    "* BedroomAbvGr: Number of bedrooms above basement level\n",
    "\n",
    "## Pandas tasks:\n",
    "* Load data\n",
    "* Standard data inspection (functions head(), tail(), describe(), isna(), shape)\n",
    "* Select one attribute to variable \n",
    "    - Series and numpy compatibility\n",
    "* dtype, index, columns\n",
    "* Data selection - [], loc, iloc\n",
    "* Data filtering and logical operators\n",
    "* Add new column to dataframe\n",
    "* Calculate new numberical attribute\n",
    "* Data selection - comparison and negation\n",
    "* Assign new values to selected rows from dataframe\n",
    "* Use .apply() for rows and single column\n",
    "* Use .groupby() for data aggregation"
   ]
  },
  {
   "cell_type": "markdown",
   "metadata": {
    "tags": []
   },
   "source": [
    "## Import used packages"
   ]
  },
  {
   "cell_type": "code",
   "execution_count": null,
   "metadata": {
    "id": "FVFwXLhL75FZ"
   },
   "outputs": [],
   "source": [
    "import pandas as pd # dataframes\n",
    "import numpy as np # matrices and linear algebra\n",
    "import matplotlib.pyplot as plt # plotting\n",
    "import seaborn as sns # another matplotlib interface - styled and easier to use"
   ]
  },
  {
   "cell_type": "markdown",
   "metadata": {},
   "source": [
    "## The first step is to load the data into the Pandas DataFrame - in our case it is a csv file\n",
    "* https://github.com/lubsar/EFREI-Introduction-to-Machine-Learning/blob/main/datasets/zsu_cv1_data.csv"
   ]
  },
  {
   "cell_type": "code",
   "execution_count": null,
   "metadata": {},
   "outputs": [],
   "source": [
    "df_full = pd.read_csv('https://raw.githubusercontent.com/lubsar/EFREI-Introduction-to-Machine-Learning/main/datasets/zsu_cv1_data.csv', sep=',')"
   ]
  },
  {
   "cell_type": "markdown",
   "metadata": {},
   "source": [
    "## We shloud take a look on the data after loading so we know that everything is OK"
   ]
  },
  {
   "cell_type": "markdown",
   "metadata": {
    "tags": []
   },
   "source": [
    "### We will start with showing first/last N rows \n",
    "- There are several ways of doing that:\n",
    "    - name of the dataframe\n",
    "    - head()\n",
    "    - tail()"
   ]
  },
  {
   "cell_type": "markdown",
   "metadata": {},
   "source": [
    "### Show 5 first and last rows"
   ]
  },
  {
   "cell_type": "code",
   "execution_count": null,
   "metadata": {},
   "outputs": [],
   "source": [
    "df_full"
   ]
  },
  {
   "cell_type": "markdown",
   "metadata": {
    "tags": []
   },
   "source": [
    "### Show first 5 rows"
   ]
  },
  {
   "cell_type": "code",
   "execution_count": null,
   "metadata": {},
   "outputs": [],
   "source": [
    "df_full.head()"
   ]
  },
  {
   "cell_type": "markdown",
   "metadata": {
    "tags": []
   },
   "source": [
    "### Show last 20 rows"
   ]
  },
  {
   "cell_type": "code",
   "execution_count": null,
   "metadata": {},
   "outputs": [],
   "source": [
    "df_full.tail(20)"
   ]
  },
  {
   "cell_type": "markdown",
   "metadata": {},
   "source": [
    "## If we want to know if there are any missing values, the isna() function may render useful"
   ]
  },
  {
   "cell_type": "code",
   "execution_count": null,
   "metadata": {},
   "outputs": [],
   "source": [
    "df_full.isna().sum().sort_values(ascending=False).head(20)"
   ]
  },
  {
   "cell_type": "markdown",
   "metadata": {},
   "source": [
    "## We can show summary of common statistical characteristic of the data using the describe() function"
   ]
  },
  {
   "cell_type": "code",
   "execution_count": null,
   "metadata": {},
   "outputs": [],
   "source": [
    "df_full.describe()"
   ]
  },
  {
   "cell_type": "markdown",
   "metadata": {
    "tags": []
   },
   "source": [
    "## 💡 Dataframe has several useful properties\n",
    "    - shape\n",
    "    - dtypes\n",
    "    - columns\n",
    "    - index"
   ]
  },
  {
   "cell_type": "markdown",
   "metadata": {},
   "source": [
    "#### Row and column count"
   ]
  },
  {
   "cell_type": "code",
   "execution_count": null,
   "metadata": {},
   "outputs": [],
   "source": [
    "df_full.shape"
   ]
  },
  {
   "cell_type": "markdown",
   "metadata": {},
   "source": [
    "#### Datatypes of columns"
   ]
  },
  {
   "cell_type": "code",
   "execution_count": null,
   "metadata": {},
   "outputs": [],
   "source": [
    "df_full.dtypes"
   ]
  },
  {
   "cell_type": "markdown",
   "metadata": {},
   "source": [
    "#### Column names"
   ]
  },
  {
   "cell_type": "code",
   "execution_count": null,
   "metadata": {},
   "outputs": [],
   "source": [
    "df_full.columns"
   ]
  },
  {
   "cell_type": "markdown",
   "metadata": {},
   "source": [
    "#### Row index values"
   ]
  },
  {
   "cell_type": "code",
   "execution_count": null,
   "metadata": {},
   "outputs": [],
   "source": [
    "df_full.index"
   ]
  },
  {
   "cell_type": "markdown",
   "metadata": {},
   "source": [
    "## We may want to work with just one column not the whole dataframe\n",
    "- We will select only the SalePrice columns and save it to another variable"
   ]
  },
  {
   "cell_type": "code",
   "execution_count": null,
   "metadata": {},
   "outputs": [],
   "source": [
    "price = df_full['SalePrice'] # df_full.SalePrice\n",
    "price"
   ]
  },
  {
   "cell_type": "markdown",
   "metadata": {},
   "source": [
    "## Columns are called Pandas Series - it shares a common API with Pandas DataFrame\n",
    "- 💡 Pandas is numpy-backed so we can use Series as standard numpy arrays without any issues using the .values property"
   ]
  },
  {
   "cell_type": "code",
   "execution_count": null,
   "metadata": {},
   "outputs": [],
   "source": [
    "arr_np = price.values\n",
    "arr_np"
   ]
  },
  {
   "cell_type": "markdown",
   "metadata": {},
   "source": [
    "## Find maximum price using Numpy and Pandas"
   ]
  },
  {
   "cell_type": "code",
   "execution_count": null,
   "metadata": {},
   "outputs": [],
   "source": [
    "price.max()"
   ]
  },
  {
   "cell_type": "code",
   "execution_count": null,
   "metadata": {},
   "outputs": [],
   "source": [
    "np.max(arr_np)"
   ]
  },
  {
   "cell_type": "markdown",
   "metadata": {
    "tags": []
   },
   "source": [
    "## Data filtering using Pandas DataFrame\n",
    "- There are several ways of filtering the data (similar logic to .Where() in C# or WHERE in SQL)\n",
    "- 💡 We usually work with two indexers - .loc[] and .iloc[]\n",
    "\n",
    "### The .iloc[] indexer works with positional indexes - very close to the way of working with the raw arrays\n",
    "### The .loc[] indexer works with column names and logical expressions"
   ]
  },
  {
   "cell_type": "markdown",
   "metadata": {
    "tags": []
   },
   "source": [
    "### Select all rows and 3rd column of dataframe"
   ]
  },
  {
   "cell_type": "code",
   "execution_count": null,
   "metadata": {},
   "outputs": [],
   "source": [
    "df_full.iloc[:, 2]"
   ]
  },
  {
   "cell_type": "markdown",
   "metadata": {
    "tags": []
   },
   "source": [
    "### Select all rows and LAST column of dataframe"
   ]
  },
  {
   "cell_type": "code",
   "execution_count": null,
   "metadata": {},
   "outputs": [],
   "source": [
    "df_full.iloc[:, -1]"
   ]
  },
  {
   "cell_type": "markdown",
   "metadata": {},
   "source": [
    "### Select rows 15 to 22 and all columns"
   ]
  },
  {
   "cell_type": "code",
   "execution_count": null,
   "metadata": {},
   "outputs": [],
   "source": [
    "df_full.iloc[15:23, :]"
   ]
  },
  {
   "cell_type": "markdown",
   "metadata": {
    "tags": []
   },
   "source": [
    "### Select rows 15 to 22 and 3rd column"
   ]
  },
  {
   "cell_type": "code",
   "execution_count": null,
   "metadata": {},
   "outputs": [],
   "source": [
    "df_full.iloc[15:23, 3]"
   ]
  },
  {
   "cell_type": "markdown",
   "metadata": {},
   "source": [
    "## Select only a subset of columns to a new dataframe\n",
    "* 'Id', 'SalePrice','MSSubClass','BldgType','HouseStyle','OverallQual','OverallCond','YearBuilt','Heating','CentralAir','GrLivArea','BedroomAbvGr'"
   ]
  },
  {
   "cell_type": "code",
   "execution_count": null,
   "metadata": {},
   "outputs": [],
   "source": [
    "df = df_full.loc[:, ['Id', 'SalePrice','MSSubClass','BldgType','HouseStyle','OverallQual','OverallCond','YearBuilt','Heating','CentralAir','GrLivArea','BedroomAbvGr']].copy()\n",
    "df.head()"
   ]
  },
  {
   "cell_type": "markdown",
   "metadata": {},
   "source": [
    "### Select only houses built in year 2000 or later\n",
    "* YearBuilt"
   ]
  },
  {
   "cell_type": "code",
   "execution_count": null,
   "metadata": {},
   "outputs": [],
   "source": [
    "df.loc[df.YearBuilt >= 2000, :]"
   ]
  },
  {
   "cell_type": "markdown",
   "metadata": {},
   "source": [
    "### Select only houses that don't use GasA for heating (try != and ~ operators)\n",
    "* Heating"
   ]
  },
  {
   "cell_type": "code",
   "execution_count": null,
   "metadata": {},
   "outputs": [],
   "source": [
    "df.loc[df.Heating != 'GasA', :]"
   ]
  },
  {
   "cell_type": "code",
   "execution_count": null,
   "metadata": {},
   "outputs": [],
   "source": [
    "df.loc[~(df.Heating == 'GasA'), :]"
   ]
  },
  {
   "cell_type": "markdown",
   "metadata": {
    "tags": []
   },
   "source": [
    "### Select houses cheaper than 180k USD and with at least 2 bedrooms\n",
    "* SalePrice, BedroomAbvGr"
   ]
  },
  {
   "cell_type": "code",
   "execution_count": null,
   "metadata": {},
   "outputs": [],
   "source": [
    "df.loc[(df.SalePrice < 180000) & (df.BedroomAbvGr >= 2), :]"
   ]
  },
  {
   "cell_type": "markdown",
   "metadata": {},
   "source": [
    "### Select houses with 2 stories or air conditioning\n",
    "* HouseStyle, CentralAir"
   ]
  },
  {
   "cell_type": "code",
   "execution_count": null,
   "metadata": {},
   "outputs": [],
   "source": [
    "df.loc[(df.HouseStyle == '2Story') | (df.CentralAir == 'Y'), :]"
   ]
  },
  {
   "cell_type": "code",
   "execution_count": null,
   "metadata": {},
   "outputs": [],
   "source": [
    "df.SalePrice.describe()"
   ]
  },
  {
   "cell_type": "markdown",
   "metadata": {
    "tags": []
   },
   "source": [
    "# We can add new columns to the DataFrame as well\n",
    "\n",
    "![meme01](https://github.com/lubsar/EFREI-Introduction-to-Machine-Learning/blob/main/images/fml_01_meme_02.png?raw=true)"
   ]
  },
  {
   "cell_type": "markdown",
   "metadata": {},
   "source": [
    "### Add a new column named Age for each house (current year - year built)\n",
    "* YearBuilt"
   ]
  },
  {
   "cell_type": "code",
   "execution_count": null,
   "metadata": {},
   "outputs": [],
   "source": [
    "df.loc[:, 'Age'] = 2021 - df.YearBuilt"
   ]
  },
  {
   "cell_type": "markdown",
   "metadata": {
    "tags": []
   },
   "source": [
    "### Add a new column IsLuxury with True value for houses with more than 3 bedrooms and price above 214k USD (.loc)\n",
    "- How many luxury houses are in the dataset?\n",
    "- SalePrice, BedroomAbvGr"
   ]
  },
  {
   "cell_type": "code",
   "execution_count": null,
   "metadata": {},
   "outputs": [],
   "source": [
    "df['IsLuxury'] = False\n",
    "df.loc[(df.SalePrice > 214000) & (df.BedroomAbvGr > 3), 'IsLuxury'] = True"
   ]
  },
  {
   "cell_type": "markdown",
   "metadata": {
    "tags": []
   },
   "source": [
    "## Pandas enables us to use aggregation functions for the data using the .groupby() function"
   ]
  },
  {
   "cell_type": "markdown",
   "metadata": {},
   "source": [
    "### Compute counts for all the heating methods (groupby / value_counts)\n",
    "* Heating"
   ]
  },
  {
   "cell_type": "code",
   "execution_count": null,
   "metadata": {},
   "outputs": [],
   "source": [
    "df.groupby('Heating').Heating.count()"
   ]
  },
  {
   "cell_type": "code",
   "execution_count": null,
   "metadata": {},
   "outputs": [],
   "source": [
    "df.Heating.value_counts()"
   ]
  },
  {
   "cell_type": "markdown",
   "metadata": {
    "id": "aAE33I3Tjse0",
    "tags": []
   },
   "source": [
    "# Visualization"
   ]
  },
  {
   "cell_type": "markdown",
   "metadata": {
    "id": "NcwzgU4oAQGF"
   },
   "source": [
    "## Scatter plot\n",
    "- Visualize relationship between SalePrice and GrLivArea.\n",
    "- Use scatter plot from **Matplotlib**."
   ]
  },
  {
   "cell_type": "code",
   "execution_count": null,
   "metadata": {
    "colab": {
     "base_uri": "https://localhost:8080/",
     "height": 282
    },
    "id": "gHmSh07_ANdA",
    "outputId": "e98dab98-0c12-495b-b886-3a8afd17a2e0"
   },
   "outputs": [],
   "source": [
    "plt.scatter(df.GrLivArea, df.SalePrice)"
   ]
  },
  {
   "cell_type": "markdown",
   "metadata": {
    "id": "i5snPTU2SUww",
    "tags": []
   },
   "source": [
    "### Modify figure size and add title"
   ]
  },
  {
   "cell_type": "code",
   "execution_count": null,
   "metadata": {
    "colab": {
     "base_uri": "https://localhost:8080/",
     "height": 390
    },
    "id": "m-iXZtpDLZD8",
    "outputId": "d0a9c921-a48e-4fe1-c390-bc5bece63fc5"
   },
   "outputs": [],
   "source": [
    "fig = plt.figure(figsize=(9,6))\n",
    "plt.scatter(df.GrLivArea, df.SalePrice)\n",
    "plt.title('House size and price relationship')\n",
    "plt.show()"
   ]
  },
  {
   "cell_type": "markdown",
   "metadata": {
    "id": "uh1KH9eRSeni"
   },
   "source": [
    "### Add axis labels"
   ]
  },
  {
   "cell_type": "code",
   "execution_count": null,
   "metadata": {
    "colab": {
     "base_uri": "https://localhost:8080/",
     "height": 404
    },
    "id": "2-AYvW09Rwbh",
    "outputId": "09462606-d106-4797-f0ca-27d4776eaee9"
   },
   "outputs": [],
   "source": [
    "fig = plt.figure(figsize=(9,6))\n",
    "plt.scatter(df.GrLivArea, df.SalePrice,)\n",
    "plt.title('House size and price relationship')\n",
    "plt.xlabel('Living area')\n",
    "plt.ylabel('Price')\n",
    "plt.show()"
   ]
  },
  {
   "cell_type": "markdown",
   "metadata": {
    "id": "eQIMbATySmSj"
   },
   "source": [
    "### Add colors for data points based on CentralAir value."
   ]
  },
  {
   "cell_type": "code",
   "execution_count": null,
   "metadata": {
    "colab": {
     "base_uri": "https://localhost:8080/",
     "height": 404
    },
    "id": "kk7EzHSMSneC",
    "outputId": "3c3b9cfd-0d7b-4a71-c7aa-6bd4b82c484f"
   },
   "outputs": [],
   "source": [
    "fig = plt.figure(figsize=(9,6))\n",
    "plt.scatter(df.GrLivArea, df.SalePrice, color=df.CentralAir.map({'Y':'blue', 'N':'red'}))\n",
    "plt.title('House size and price relationship')\n",
    "plt.xlabel('Living area')\n",
    "plt.ylabel('Price')\n",
    "fig.show()"
   ]
  },
  {
   "cell_type": "markdown",
   "metadata": {
    "id": "ykYT_tiXRNAJ"
   },
   "source": [
    "## Try to use scatterplot from **Seaborn** library for scatter plot visualization."
   ]
  },
  {
   "cell_type": "markdown",
   "metadata": {},
   "source": [
    "#### Use dataframe as source and column names for axes data"
   ]
  },
  {
   "cell_type": "code",
   "execution_count": null,
   "metadata": {
    "colab": {
     "base_uri": "https://localhost:8080/",
     "height": 296
    },
    "id": "ZrR0mwqoRK1_",
    "outputId": "f2e84a91-9700-4ae4-cc9e-eed5a54402b9"
   },
   "outputs": [],
   "source": [
    "sns.scatterplot(data=df, x='GrLivArea', y='SalePrice')"
   ]
  },
  {
   "cell_type": "markdown",
   "metadata": {},
   "source": [
    "### Resize plot and add color for markers based on CentralAir column"
   ]
  },
  {
   "cell_type": "code",
   "execution_count": null,
   "metadata": {
    "colab": {
     "base_uri": "https://localhost:8080/",
     "height": 405
    },
    "id": "4rAYREWlRYRN",
    "outputId": "7ce5a397-a39d-47bd-9866-e48b351b452b"
   },
   "outputs": [],
   "source": [
    "fig = plt.figure(figsize=((9,6)))\n",
    "sns.scatterplot(data=df, x='GrLivArea', y='SalePrice', hue='CentralAir')"
   ]
  },
  {
   "cell_type": "markdown",
   "metadata": {
    "id": "dT1O29MDVUEE"
   },
   "source": [
    "## Line plot\n",
    "- Calculate and visualize average house price in relationship to YearBuild."
   ]
  },
  {
   "cell_type": "code",
   "execution_count": null,
   "metadata": {
    "colab": {
     "base_uri": "https://localhost:8080/"
    },
    "id": "M_pFtbhsVC2Q",
    "outputId": "147f9111-c2d6-46f0-ec38-ba0cb949e304"
   },
   "outputs": [],
   "source": [
    "avg_prices = df.groupby('YearBuilt').SalePrice.mean()\n",
    "avg_prices"
   ]
  },
  {
   "cell_type": "code",
   "execution_count": null,
   "metadata": {
    "colab": {
     "base_uri": "https://localhost:8080/",
     "height": 391
    },
    "id": "bfXtmkA6Whdm",
    "outputId": "c62905c8-18a0-4142-8445-dbcca60ed948"
   },
   "outputs": [],
   "source": [
    "plt.figure(figsize=(9,6))\n",
    "plt.plot(avg_prices.index, avg_prices.values, marker='x')"
   ]
  },
  {
   "cell_type": "markdown",
   "metadata": {
    "id": "VH2TGgm7XL6i"
   },
   "source": [
    "## Bar plot\n",
    "- Calculate and visualize how many of houses have CentralAir\n",
    "- Use Barplot for visualization"
   ]
  },
  {
   "cell_type": "code",
   "execution_count": null,
   "metadata": {
    "colab": {
     "base_uri": "https://localhost:8080/"
    },
    "id": "N-luAVWBb1Yt",
    "outputId": "4994cd5b-fa7e-4fe8-91c1-18b6f323a386"
   },
   "outputs": [],
   "source": [
    "number_of_categories = df.groupby('CentralAir').CentralAir.count()\n",
    "number_of_categories"
   ]
  },
  {
   "cell_type": "code",
   "execution_count": null,
   "metadata": {
    "colab": {
     "base_uri": "https://localhost:8080/",
     "height": 282
    },
    "id": "2rKj7QEicmWX",
    "outputId": "8f970da3-5216-4a7e-b34f-3be812205569"
   },
   "outputs": [],
   "source": [
    "plt.bar(x=number_of_categories.index, height=number_of_categories.values)"
   ]
  },
  {
   "cell_type": "markdown",
   "metadata": {
    "id": "SSkKDFEfb1Ql"
   },
   "source": [
    "### Visualize number of building type and if they contains air conditioning using Seaborn"
   ]
  },
  {
   "cell_type": "code",
   "execution_count": null,
   "metadata": {
    "colab": {
     "base_uri": "https://localhost:8080/",
     "height": 483
    },
    "id": "RRRhPAvCc52Q",
    "outputId": "c158b93d-8bb2-4e4f-efc3-14c98f4f5bc3"
   },
   "outputs": [],
   "source": [
    "df_number_of_categories = df.groupby(['HouseStyle', 'CentralAir']).Id.count().reset_index(name='Count')\n",
    "df_number_of_categories"
   ]
  },
  {
   "cell_type": "code",
   "execution_count": null,
   "metadata": {
    "colab": {
     "base_uri": "https://localhost:8080/",
     "height": 296
    },
    "id": "pnpFAPXPb1HO",
    "outputId": "8708ceeb-005a-439b-ca0f-719e2203507e"
   },
   "outputs": [],
   "source": [
    "sns.barplot(data=df_number_of_categories, y='HouseStyle', x='Count', hue='CentralAir')"
   ]
  },
  {
   "cell_type": "markdown",
   "metadata": {
    "id": "m-iXZtpDLZD8",
    "tags": []
   },
   "source": [
    "# Tasks\n",
    "## ✅ Python\n",
    "* Create function that will take `list` of numbers as an input, computes *minimum, maximum, mean, median* and return the values in form of a tuple\n",
    "  * Do not use any library functions for computing the values (use pure Python, thus avoid std. library, numpy, pandas, etc.)\n",
    "* Test the function using `SalePrice` column\n",
    "  * 💡 You can compare your values with the correct ones obtained using Numpy/Pandas functions\n",
    "\n",
    "## ✅ Pandas\n",
    "* Add a new column *Undervalued* which is set to True in case that the house is priced bellow 163k USD and has both OverallQual and OverallCond higher than 5.\n",
    "\n",
    "* **How many undervalued houses are in the dataset?**\n",
    "\n",
    "## ✅ Visualization\n",
    "* Add to dataframe new attribute determining if the house was build before or after year 2000.\n",
    "\n",
    "* **Create bar chart for number of houses depending on type of dwelling (attribute BldgType, use as a category axis) and added binary attribute about house age (use as a bar color).**"
   ]
  },
  {
   "cell_type": "code",
   "execution_count": null,
   "metadata": {},
   "outputs": [],
   "source": [
    "def basic_statistics(arr: list) -> tuple[float, float, float, float]:\n",
    "    pass"
   ]
  },
  {
   "cell_type": "code",
   "execution_count": null,
   "metadata": {},
   "outputs": [],
   "source": [
    "basic_statistics(df.SalePrice.to_list())"
   ]
  }
 ],
 "metadata": {
  "colab": {
   "collapsed_sections": [],
   "name": "ZSU_cv1_introduction_jupyter_pandas_visualization.ipynb",
   "provenance": []
  },
  "kernelspec": {
   "display_name": "Python 3 (ipykernel)",
   "language": "python",
   "name": "python3"
  },
  "language_info": {
   "codemirror_mode": {
    "name": "ipython",
    "version": 3
   },
   "file_extension": ".py",
   "mimetype": "text/x-python",
   "name": "python",
   "nbconvert_exporter": "python",
   "pygments_lexer": "ipython3",
   "version": "3.12.1"
  }
 },
 "nbformat": 4,
 "nbformat_minor": 4
}
