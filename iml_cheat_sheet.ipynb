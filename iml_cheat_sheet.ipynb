{
 "cells": [
  {
   "cell_type": "markdown",
   "metadata": {
    "id": "EErgikq5jsjk",
    "tags": []
   },
   "source": [
    "# Cheat sheet for EDA\n",
    "\n",
    "**Environment preparation**\n",
    "\n",
    "* Create Python environment\n",
    "```\n",
    "python -m venv env-name\n",
    "```\n",
    "* Run venv\n",
    "```\n",
    "env-name\\Scripts\\Activate\n",
    "```\n",
    "* Intall python packages\n",
    "```\n",
    "pip install jupyter jupyterlab pandas matplotlib requests seaborn scipy scikit-learn\n",
    "```\n",
    "* Run Jupyter lab\n",
    "```\n",
    "jupyter lab\n",
    "```"
   ]
  },
  {
   "cell_type": "markdown",
   "metadata": {
    "id": "l9hHDMhFjshW",
    "tags": []
   },
   "source": [
    "## Important links\n",
    "\n",
    "**Pandas documentation:** [https://pandas.pydata.org/docs/reference/index.html](https://pandas.pydata.org/docs/reference/index.html)\n",
    "\n",
    "**Seaborn documentation:** [https://seaborn.pydata.org/api.html](https://seaborn.pydata.org/api.html)"
   ]
  },
  {
   "cell_type": "markdown",
   "metadata": {
    "tags": []
   },
   "source": [
    "## Import used packages"
   ]
  },
  {
   "cell_type": "code",
   "execution_count": null,
   "metadata": {
    "id": "FVFwXLhL75FZ"
   },
   "outputs": [],
   "source": [
    "import pandas as pd # dataframes\n",
    "import numpy as np # matrices and linear algebra\n",
    "import matplotlib.pyplot as plt # plotting\n",
    "import seaborn as sns # another matplotlib interface - styled and easier to use"
   ]
  },
  {
   "cell_type": "markdown",
   "metadata": {},
   "source": [
    "# Pandas"
   ]
  },
  {
   "cell_type": "markdown",
   "metadata": {},
   "source": [
    "## Read the data"
   ]
  },
  {
   "cell_type": "code",
   "execution_count": null,
   "metadata": {},
   "outputs": [],
   "source": [
    "df_full = pd.read_csv('https://raw.githubusercontent.com/lubsar/EFREI-Introduction-to-Machine-Learning/main/datasets/zsu_cv1_data.csv', sep=',')"
   ]
  },
  {
   "cell_type": "markdown",
   "metadata": {},
   "source": [
    "## Show missing values counts by columns"
   ]
  },
  {
   "cell_type": "markdown",
   "metadata": {},
   "source": [
    "### Show 5 first and last rows"
   ]
  },
  {
   "cell_type": "code",
   "execution_count": null,
   "metadata": {},
   "outputs": [],
   "source": [
    "df_full"
   ]
  },
  {
   "cell_type": "markdown",
   "metadata": {
    "tags": []
   },
   "source": [
    "### Show first 5 rows"
   ]
  },
  {
   "cell_type": "code",
   "execution_count": null,
   "metadata": {},
   "outputs": [],
   "source": [
    "df_full.head()"
   ]
  },
  {
   "cell_type": "markdown",
   "metadata": {
    "tags": []
   },
   "source": [
    "### Show last 20 rows"
   ]
  },
  {
   "cell_type": "code",
   "execution_count": null,
   "metadata": {},
   "outputs": [],
   "source": [
    "df_full.tail(20)"
   ]
  },
  {
   "cell_type": "code",
   "execution_count": null,
   "metadata": {},
   "outputs": [],
   "source": [
    "df_full.isna().sum().sort_values(ascending=False).head(20)"
   ]
  },
  {
   "cell_type": "markdown",
   "metadata": {},
   "source": [
    "## Get summary of the data"
   ]
  },
  {
   "cell_type": "code",
   "execution_count": null,
   "metadata": {},
   "outputs": [],
   "source": [
    "df_full.describe()"
   ]
  },
  {
   "cell_type": "markdown",
   "metadata": {},
   "source": [
    "#### Row and column count"
   ]
  },
  {
   "cell_type": "code",
   "execution_count": null,
   "metadata": {},
   "outputs": [],
   "source": [
    "df_full.shape"
   ]
  },
  {
   "cell_type": "markdown",
   "metadata": {},
   "source": [
    "#### Datatypes of columns"
   ]
  },
  {
   "cell_type": "code",
   "execution_count": null,
   "metadata": {},
   "outputs": [],
   "source": [
    "df_full.dtypes"
   ]
  },
  {
   "cell_type": "markdown",
   "metadata": {},
   "source": [
    "#### Column names"
   ]
  },
  {
   "cell_type": "code",
   "execution_count": null,
   "metadata": {},
   "outputs": [],
   "source": [
    "df_full.columns"
   ]
  },
  {
   "cell_type": "markdown",
   "metadata": {},
   "source": [
    "#### Row index values"
   ]
  },
  {
   "cell_type": "code",
   "execution_count": null,
   "metadata": {},
   "outputs": [],
   "source": [
    "df_full.index"
   ]
  },
  {
   "cell_type": "markdown",
   "metadata": {},
   "source": [
    "## Select column to Pandas Series"
   ]
  },
  {
   "cell_type": "code",
   "execution_count": null,
   "metadata": {},
   "outputs": [],
   "source": [
    "price = df_full['SalePrice'] # df_full.SalePrice\n",
    "price"
   ]
  },
  {
   "cell_type": "markdown",
   "metadata": {
    "tags": []
   },
   "source": [
    "## Data filtering using .loc and .iloc\n",
    "\n",
    "### The .iloc[] indexer works with positional indexes - very close to the way of working with the raw arrays\n",
    "### The .loc[] indexer works with column names and logical expressions"
   ]
  },
  {
   "cell_type": "markdown",
   "metadata": {
    "tags": []
   },
   "source": [
    "### Select all rows and 3rd column of dataframe"
   ]
  },
  {
   "cell_type": "code",
   "execution_count": null,
   "metadata": {},
   "outputs": [],
   "source": [
    "df_full.iloc[:, 2]"
   ]
  },
  {
   "cell_type": "markdown",
   "metadata": {
    "tags": []
   },
   "source": [
    "### Select all rows and LAST column of dataframe"
   ]
  },
  {
   "cell_type": "code",
   "execution_count": null,
   "metadata": {},
   "outputs": [],
   "source": [
    "df_full.iloc[:, -1]"
   ]
  },
  {
   "cell_type": "markdown",
   "metadata": {},
   "source": [
    "### Select rows 15 to 22 and all columns"
   ]
  },
  {
   "cell_type": "code",
   "execution_count": null,
   "metadata": {},
   "outputs": [],
   "source": [
    "df_full.iloc[15:23, :]"
   ]
  },
  {
   "cell_type": "markdown",
   "metadata": {
    "tags": []
   },
   "source": [
    "### Select rows 15 to 22 and 3rd column"
   ]
  },
  {
   "cell_type": "code",
   "execution_count": null,
   "metadata": {},
   "outputs": [],
   "source": [
    "df_full.iloc[15:23, 3]"
   ]
  },
  {
   "cell_type": "markdown",
   "metadata": {},
   "source": [
    "## Select only a subset of columns to a new dataframe"
   ]
  },
  {
   "cell_type": "code",
   "execution_count": null,
   "metadata": {},
   "outputs": [],
   "source": [
    "df = df_full.loc[:, ['Id', 'SalePrice', 'GarageFinish', 'MSSubClass','BldgType','HouseStyle','OverallQual','OverallCond','YearBuilt','Heating','CentralAir','GrLivArea','BedroomAbvGr']].copy()\n",
    "df.head()"
   ]
  },
  {
   "cell_type": "markdown",
   "metadata": {
    "tags": []
   },
   "source": [
    "### Select houses cheaper than 180k USD and with at least 2 bedrooms"
   ]
  },
  {
   "cell_type": "code",
   "execution_count": null,
   "metadata": {},
   "outputs": [],
   "source": [
    "df.loc[(df.SalePrice < 180000) & (df.BedroomAbvGr >= 2), :]"
   ]
  },
  {
   "cell_type": "markdown",
   "metadata": {},
   "source": [
    "### Add a new column named Age for each house (current year - year built)"
   ]
  },
  {
   "cell_type": "code",
   "execution_count": null,
   "metadata": {},
   "outputs": [],
   "source": [
    "df.loc[:, 'Age'] = 2021 - df.YearBuilt"
   ]
  },
  {
   "cell_type": "markdown",
   "metadata": {
    "tags": []
   },
   "source": [
    "### Add a new column IsLuxury with True value for houses with more than 3 bedrooms and price above 214k USD (.loc)\n",
    "- How many luxury houses are in the dataset?"
   ]
  },
  {
   "cell_type": "code",
   "execution_count": null,
   "metadata": {},
   "outputs": [],
   "source": [
    "df['IsLuxury'] = False\n",
    "df.loc[(df.SalePrice > 214000) & (df.BedroomAbvGr > 3), 'IsLuxury'] = True"
   ]
  },
  {
   "cell_type": "markdown",
   "metadata": {},
   "source": [
    "### Compute counts for all the heating methods (groupby / value_counts)"
   ]
  },
  {
   "cell_type": "code",
   "execution_count": null,
   "metadata": {},
   "outputs": [],
   "source": [
    "df.groupby('Heating').Heating.count()"
   ]
  },
  {
   "cell_type": "code",
   "execution_count": null,
   "metadata": {},
   "outputs": [],
   "source": [
    "df.Heating.value_counts()"
   ]
  },
  {
   "cell_type": "markdown",
   "metadata": {
    "id": "aAE33I3Tjse0",
    "tags": []
   },
   "source": [
    "# Visualization"
   ]
  },
  {
   "cell_type": "markdown",
   "metadata": {
    "id": "NcwzgU4oAQGF"
   },
   "source": [
    "## Scatter plot"
   ]
  },
  {
   "cell_type": "code",
   "execution_count": null,
   "metadata": {
    "colab": {
     "base_uri": "https://localhost:8080/",
     "height": 388
    },
    "id": "3XHdtbgnUYnw",
    "outputId": "e539e551-2139-4f52-b7f0-2ceaec8b8f34"
   },
   "outputs": [],
   "source": [
    "fig = plt.figure(figsize=((9,6)))\n",
    "sns.scatterplot(data=df, x='GrLivArea', y='SalePrice', hue='CentralAir', palette='deep')"
   ]
  },
  {
   "cell_type": "markdown",
   "metadata": {
    "id": "dT1O29MDVUEE"
   },
   "source": [
    "## Line plot"
   ]
  },
  {
   "cell_type": "code",
   "execution_count": null,
   "metadata": {},
   "outputs": [],
   "source": [
    "avg_prices = df.groupby('YearBuilt').SalePrice.mean().reset_index(name='AvgSalePrice')\n",
    "plt.figure(figsize=(9,6))\n",
    "sns.lineplot(data=avg_prices, x='YearBuilt', y='AvgSalePrice')"
   ]
  },
  {
   "cell_type": "markdown",
   "metadata": {
    "id": "VH2TGgm7XL6i"
   },
   "source": [
    "## Bar plot"
   ]
  },
  {
   "cell_type": "code",
   "execution_count": null,
   "metadata": {
    "colab": {
     "base_uri": "https://localhost:8080/",
     "height": 295
    },
    "id": "0Onc8osh7SGG",
    "outputId": "143ed39f-1360-4efd-c599-88d41c969420"
   },
   "outputs": [],
   "source": [
    "df.loc[df.YearBuilt < 2000, 'AgeCat'] = '<2000'\n",
    "df.loc[df.YearBuilt >= 2000, 'AgeCat'] = '>=2000'\n",
    "df_number_of_categories = df.groupby(['BldgType', 'AgeCat']).AgeCat.count().reset_index(name='Count')\n",
    "df_number_of_categories"
   ]
  },
  {
   "cell_type": "code",
   "execution_count": null,
   "metadata": {
    "colab": {
     "base_uri": "https://localhost:8080/",
     "height": 296
    },
    "id": "lC7mBPR87I_9",
    "outputId": "2e927b2a-a9c4-497c-a3cb-6aed7eec5cba"
   },
   "outputs": [],
   "source": [
    "sns.barplot(data=df_number_of_categories, y='BldgType', x='Count', hue='AgeCat')"
   ]
  },
  {
   "cell_type": "markdown",
   "metadata": {},
   "source": [
    "## Histogram"
   ]
  },
  {
   "cell_type": "code",
   "execution_count": null,
   "metadata": {},
   "outputs": [],
   "source": [
    "fig = plt.figure(figsize=(9, 6))\n",
    "sns.histplot(df.SalePrice, bins=60, edgecolor='white', color='green')\n",
    "plt.axvline(df.SalePrice.quantile(0.25), color='red')\n",
    "plt.axvline(df.SalePrice.quantile(0.75), color='red')"
   ]
  },
  {
   "cell_type": "code",
   "execution_count": null,
   "metadata": {},
   "outputs": [],
   "source": [
    "sns.displot(data=df, x='SalePrice', hue='GarageFinish', edgecolor='white')"
   ]
  },
  {
   "cell_type": "markdown",
   "metadata": {},
   "source": [
    "## Boxplot"
   ]
  },
  {
   "cell_type": "code",
   "execution_count": null,
   "metadata": {},
   "outputs": [],
   "source": [
    "fig = plt.figure(figsize=(16, 9))\n",
    "sns.boxplot(data=df, y='SalePrice', x='BldgType')"
   ]
  },
  {
   "cell_type": "markdown",
   "metadata": {},
   "source": [
    "## Pair plot"
   ]
  },
  {
   "cell_type": "code",
   "execution_count": null,
   "metadata": {},
   "outputs": [],
   "source": [
    "selected_columns = ['LotFrontage', 'LotArea', 'YearBuilt', 'GrLivArea', 'GarageYrBlt', 'GarageArea', 'SalePrice']\n",
    "sns.pairplot(data=df_full, vars=selected_columns, hue='BldgType')"
   ]
  },
  {
   "cell_type": "markdown",
   "metadata": {},
   "source": [
    "## Subplots"
   ]
  },
  {
   "cell_type": "code",
   "execution_count": null,
   "metadata": {},
   "outputs": [],
   "source": [
    "qualitative_columns = df.select_dtypes(exclude=np.number).columns\n",
    "\n",
    "fig, axes = plt.subplots(len(qualitative_columns), 2, figsize=(10, 20))\n",
    "\n",
    "for i, col in enumerate(qualitative_columns):\n",
    "    ax_left = fig.axes[2*i]\n",
    "    ax_right = fig.axes[2*i + 1]\n",
    "    sns.boxplot(data=df, x=col, y='SalePrice', ax=ax_left)\n",
    "    ax_left.set_xticklabels(ax_left.xaxis.get_majorticklabels(), rotation=60)\n",
    "    sns.countplot(data=df, x=col, ax=ax_right)\n",
    "    ax_right.set_xticklabels(ax_right.xaxis.get_majorticklabels(), rotation=60)\n",
    "        \n",
    "fig.tight_layout()"
   ]
  },
  {
   "cell_type": "markdown",
   "metadata": {},
   "source": [
    "## Heatmap and correlation"
   ]
  },
  {
   "cell_type": "code",
   "execution_count": null,
   "metadata": {},
   "outputs": [],
   "source": [
    "df_corr = df.corr(numeric_only=True)\n",
    "df_corr"
   ]
  },
  {
   "cell_type": "code",
   "execution_count": null,
   "metadata": {},
   "outputs": [],
   "source": [
    "plt.figure(figsize=(12, 9))\n",
    "sns.heatmap(df_corr, square=True, cmap='RdYlGn', vmin=-1, vmax=1, annot=True)"
   ]
  },
  {
   "cell_type": "markdown",
   "metadata": {},
   "source": [
    "## Regression line in scatter plot"
   ]
  },
  {
   "cell_type": "code",
   "execution_count": null,
   "metadata": {},
   "outputs": [],
   "source": [
    "fig = plt.figure(figsize=(12, 12))\n",
    "sns.regplot(data = df, x='GrLivArea', y='SalePrice')\n",
    "plt.show()"
   ]
  }
 ],
 "metadata": {
  "colab": {
   "collapsed_sections": [],
   "name": "ZSU_cv1_introduction_jupyter_pandas_visualization.ipynb",
   "provenance": []
  },
  "kernelspec": {
   "display_name": ".venv",
   "language": "python",
   "name": "python3"
  },
  "language_info": {
   "codemirror_mode": {
    "name": "ipython",
    "version": 3
   },
   "file_extension": ".py",
   "mimetype": "text/x-python",
   "name": "python",
   "nbconvert_exporter": "python",
   "pygments_lexer": "ipython3",
   "version": "3.13.7"
  }
 },
 "nbformat": 4,
 "nbformat_minor": 4
}
