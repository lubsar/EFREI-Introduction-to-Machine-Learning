{
 "cells": [
  {
   "cell_type": "markdown",
   "metadata": {},
   "source": [
    "# Introduction to Machine Learning - Exercise 3\n",
    "* The aim of the exercise is to learn how to use distance metrics and k-NN classifier."
   ]
  },
  {
   "cell_type": "markdown",
   "metadata": {
    "tags": []
   },
   "source": [
    "## Import used packages"
   ]
  },
  {
   "cell_type": "code",
   "execution_count": 1,
   "metadata": {
    "id": "FVFwXLhL75FZ"
   },
   "outputs": [],
   "source": [
    "import pandas as pd # dataframes\n",
    "import numpy as np # matrices and linear algebra\n",
    "import matplotlib.pyplot as plt # plotting\n",
    "import seaborn as sns # another matplotlib interface - styled and easier to use\n",
    "from sklearn.neighbors import KNeighborsClassifier # k-nearest neighbors\n",
    "from sklearn.model_selection import train_test_split # split data into training and testing sets\n",
    "from sklearn.metrics import accuracy_score # accuracy\n",
    "from sklearn.preprocessing import StandardScaler # standardize features"
   ]
  },
  {
   "cell_type": "markdown",
   "metadata": {},
   "source": [
    "## Load the data into the Pandas DataFrame - in our case it is a csv file\n",
    "* https://raw.githubusercontent.com/lubsar/EFREI-Introduction-to-Machine-Learning/blob/main//datasets/iris.csv\n",
    "\n",
    "![meme01](https://github.com/lubsar/EFREI-Introduction-to-Machine-Learning/blob/main/images/knn_iris.png?raw=true)\n"
   ]
  },
  {
   "cell_type": "code",
   "execution_count": 2,
   "metadata": {},
   "outputs": [
    {
     "data": {
      "text/html": [
       "<div>\n",
       "<style scoped>\n",
       "    .dataframe tbody tr th:only-of-type {\n",
       "        vertical-align: middle;\n",
       "    }\n",
       "\n",
       "    .dataframe tbody tr th {\n",
       "        vertical-align: top;\n",
       "    }\n",
       "\n",
       "    .dataframe thead th {\n",
       "        text-align: right;\n",
       "    }\n",
       "</style>\n",
       "<table border=\"1\" class=\"dataframe\">\n",
       "  <thead>\n",
       "    <tr style=\"text-align: right;\">\n",
       "      <th></th>\n",
       "      <th>sepal_length</th>\n",
       "      <th>sepal_width</th>\n",
       "      <th>petal_length</th>\n",
       "      <th>petal_width</th>\n",
       "      <th>species</th>\n",
       "    </tr>\n",
       "  </thead>\n",
       "  <tbody>\n",
       "    <tr>\n",
       "      <th>0</th>\n",
       "      <td>5.1</td>\n",
       "      <td>3.5</td>\n",
       "      <td>1.4</td>\n",
       "      <td>0.2</td>\n",
       "      <td>setosa</td>\n",
       "    </tr>\n",
       "    <tr>\n",
       "      <th>1</th>\n",
       "      <td>4.9</td>\n",
       "      <td>3.0</td>\n",
       "      <td>1.4</td>\n",
       "      <td>0.2</td>\n",
       "      <td>setosa</td>\n",
       "    </tr>\n",
       "    <tr>\n",
       "      <th>2</th>\n",
       "      <td>4.7</td>\n",
       "      <td>3.2</td>\n",
       "      <td>1.3</td>\n",
       "      <td>0.2</td>\n",
       "      <td>setosa</td>\n",
       "    </tr>\n",
       "    <tr>\n",
       "      <th>3</th>\n",
       "      <td>4.6</td>\n",
       "      <td>3.1</td>\n",
       "      <td>1.5</td>\n",
       "      <td>0.2</td>\n",
       "      <td>setosa</td>\n",
       "    </tr>\n",
       "    <tr>\n",
       "      <th>4</th>\n",
       "      <td>5.0</td>\n",
       "      <td>3.6</td>\n",
       "      <td>1.4</td>\n",
       "      <td>0.2</td>\n",
       "      <td>setosa</td>\n",
       "    </tr>\n",
       "  </tbody>\n",
       "</table>\n",
       "</div>"
      ],
      "text/plain": [
       "   sepal_length  sepal_width  petal_length  petal_width species\n",
       "0           5.1          3.5           1.4          0.2  setosa\n",
       "1           4.9          3.0           1.4          0.2  setosa\n",
       "2           4.7          3.2           1.3          0.2  setosa\n",
       "3           4.6          3.1           1.5          0.2  setosa\n",
       "4           5.0          3.6           1.4          0.2  setosa"
      ]
     },
     "execution_count": 2,
     "metadata": {},
     "output_type": "execute_result"
    }
   ],
   "source": [
    "df = pd.read_csv('https://raw.githubusercontent.com/lubsar/EFREI-Introduction-to-Machine-Learning/main/datasets/iris.csv', sep=',')\n",
    "df.head()"
   ]
  },
  {
   "cell_type": "markdown",
   "metadata": {},
   "source": [
    "# We will take a look at the data first\n",
    "* sepal_length, sepal_width, petal_length, petal_width are the features\n",
    "\n",
    "* **species** is the target variable"
   ]
  },
  {
   "cell_type": "code",
   "execution_count": null,
   "metadata": {},
   "outputs": [],
   "source": []
  },
  {
   "cell_type": "markdown",
   "metadata": {},
   "source": [
    "# 🔎 What features seems to be the most discriminative?"
   ]
  },
  {
   "cell_type": "markdown",
   "metadata": {},
   "source": [
    "# 🚀 k-Nearest Neighbors classifier\n",
    "* How does it work?\n",
    "* What is a distance metric?\n",
    "  * Which one is default for k-NN?\n",
    "\n",
    "### Example: Calculating Euclidean Distance\n",
    "\n",
    "Given two vectors with 5 numbers:\n",
    "\n",
    "- **Vector A**: (2, 4, 6, 8, 10)\n",
    "- **Vector B**: (1, 3, 5, 7, 9)\n",
    "\n",
    "**🔎 What is the result?**\n",
    "\n",
    "### Example: Calculating Manhattan Distance\n",
    "\n",
    "Given two vectors with 5 numbers:\n",
    "\n",
    "- **Vector A**: (2, 4, 6, 8, 10)\n",
    "- **Vector B**: (1, 3, 5, 7, 9)\n",
    "\n",
    "**🔎 What is the result?**\n",
    "\n",
    "### Example: Finding the 3 Closest Vectors and Applying Majority Voting\n",
    "\n",
    "We are given one **selected vector** and a set of **5 different vectors**. Each vector belongs to one of two classes: **Class 0** or **Class 1**. \n",
    "\n",
    "We will calculate the Euclidean distance between the selected vector and each of the different vectors, find the 3 closest vectors, and then assign a class to the selected vector using majority voting.\n",
    "\n",
    "#### Selected Vector\n",
    "- **Vector S**: (2, 3, 4)  \n",
    "  - Class: **Unknown** (to be determined)\n",
    "\n",
    "#### Set of Different Vectors (with classes)\n",
    "- **Vector A**: (1, 2, 3), Class 0\n",
    "- **Vector B**: (3, 3, 3), Class 1\n",
    "- **Vector C**: (2, 5, 6), Class 1\n",
    "- **Vector D**: (0, 0, 0), Class 0\n",
    "- **Vector E**: (4, 4, 4), Class 1\n",
    "\n",
    "**🔎 What is the class?**\n",
    "\n",
    "![meme02](https://github.com/lubsar/EFREI-Introduction-to-Machine-Learning/blob/main/images/knn_meme_01.jpg?raw=true)"
   ]
  },
  {
   "cell_type": "markdown",
   "metadata": {},
   "source": [
    "## 📌 Normalizing & Splitting the Data\n",
    "\n",
    "### **Splitting the Data**\n",
    "-  The data is divided into two subsets:\n",
    "  - **Training Data**: Used to train the machine learning model.\n",
    "    - The algorithm learns the relationship between features and the target.\n",
    "    - It finds patterns in the training data that will help in making predictions on unseen data.\n",
    "  -  **Test Data**: Used to evaluate the model’s performance.\n",
    "       - 📊 The model makes predictions on the test data.\n",
    "       - 🔁 These predictions are then compared to the actual target values for accuracy assessment.\n",
    "  \n",
    "### ⚖️ **Normalizing the Data**\n",
    "- Ensuring features are on a similar scale improves the performance of many machine learning algorithms.\n",
    "- 🎯 Important step for any distance-based algorithm (k-means, knn or even linear regression)"
   ]
  },
  {
   "cell_type": "markdown",
   "metadata": {},
   "source": [
    "# Split the data into features and labels"
   ]
  },
  {
   "cell_type": "code",
   "execution_count": null,
   "metadata": {},
   "outputs": [],
   "source": []
  },
  {
   "cell_type": "markdown",
   "metadata": {},
   "source": [
    "# ⚡ Split the data into train and test set"
   ]
  },
  {
   "cell_type": "code",
   "execution_count": null,
   "metadata": {},
   "outputs": [],
   "source": []
  },
  {
   "cell_type": "markdown",
   "metadata": {},
   "source": [
    "# ⚡ Standardize features"
   ]
  },
  {
   "cell_type": "code",
   "execution_count": null,
   "metadata": {},
   "outputs": [],
   "source": []
  },
  {
   "cell_type": "markdown",
   "metadata": {},
   "source": [
    "# 🚀 Fitting and Evaluating the Model\n",
    "* We are now ready to train the model. \n",
    "* For this, we’ll use a fixed value of 3 for k.\n",
    "  * 📒 We can try different values as well\n",
    "* We first create an instance of the kNN model, then fit this to our training data. \n",
    "  * **We pass both the features and the target variable, so the model can learn.**"
   ]
  },
  {
   "cell_type": "code",
   "execution_count": null,
   "metadata": {},
   "outputs": [],
   "source": []
  },
  {
   "cell_type": "markdown",
   "metadata": {},
   "source": [
    "# 📈 The last step is getting the predictions and calculating the accuracy of the model"
   ]
  },
  {
   "cell_type": "code",
   "execution_count": null,
   "metadata": {},
   "outputs": [],
   "source": []
  },
  {
   "cell_type": "markdown",
   "metadata": {},
   "source": [
    "## Accuracy score\n",
    "* 📌 Accuracy is the proportion of correctly classified instances\n",
    "* It is a good measure when the classes are balanced\n",
    "    * 🔎 What does balanced mean?\n",
    "* Range of accuracy_score is [0, 1]\n",
    "    * **1** is the **best** score\n",
    "    * **0** is the **worst** score\n",
    "\n",
    "### 🚀 What if `k=5`? What `accuracy_score` does it produce? Try it!\n",
    "* 🔎 Is the result better or worse? Why?"
   ]
  },
  {
   "cell_type": "code",
   "execution_count": null,
   "metadata": {},
   "outputs": [],
   "source": []
  },
  {
   "cell_type": "markdown",
   "metadata": {
    "tags": []
   },
   "source": [
    "# ✅ Task\n",
    "- 📒 Code two python functions `my_euclidean_distance` and `my_manhattan_distance` which will calculate the distances for two given vectors\n",
    "- Code function `find_neighbour` \n",
    "  - 📌 It will let you select `my_euclidean_distance` or `my_manhattan_distance` for distance calculation \n",
    "  - 📌 It will find the closest vector from a set of vectors to the target vector and return it\n",
    "- 🚀 Test the functions on the vectors that we have used in examples on the blackboard"
   ]
  },
  {
   "cell_type": "code",
   "execution_count": 3,
   "metadata": {},
   "outputs": [],
   "source": [
    "def my_euclidean_distance(x: list, y:list) -> float:\n",
    "    pass\n",
    "\n",
    "def my_manhattan_distance(x: list, y:list) -> float:\n",
    "    pass\n",
    "\n",
    "# distance = 'euclidean_distance' or 'manhattan_distance'\n",
    "def find_neighbour(target_vector: list, vectors: list[list], distance: str = 'euclidean_distance') -> list:\n",
    "    pass"
   ]
  }
 ],
 "metadata": {
  "colab": {
   "collapsed_sections": [],
   "name": "ZSU_cv1_introduction_jupyter_pandas_visualization.ipynb",
   "provenance": []
  },
  "kernelspec": {
   "display_name": ".venv",
   "language": "python",
   "name": "python3"
  },
  "language_info": {
   "codemirror_mode": {
    "name": "ipython",
    "version": 3
   },
   "file_extension": ".py",
   "mimetype": "text/x-python",
   "name": "python",
   "nbconvert_exporter": "python",
   "pygments_lexer": "ipython3",
   "version": "3.13.7"
  }
 },
 "nbformat": 4,
 "nbformat_minor": 4
}
